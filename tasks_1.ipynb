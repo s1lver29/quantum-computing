{
 "cells": [
  {
   "cell_type": "code",
   "execution_count": 1,
   "metadata": {},
   "outputs": [],
   "source": [
    "from qiskit import QuantumRegister, ClassicalRegister\n",
    "from qiskit import QuantumCircuit, execute, BasicAer\n",
    "from qiskit.tools.monitor import job_monitor"
   ]
  },
  {
   "cell_type": "code",
   "execution_count": 2,
   "metadata": {},
   "outputs": [],
   "source": [
    "backend = BasicAer.get_backend('qasm_simulator')"
   ]
  },
  {
   "cell_type": "markdown",
   "metadata": {},
   "source": [
    "# Задание 4\n",
    "> Используя библиотеку Qiskit, создайте 4 состояния Белла"
   ]
  },
  {
   "cell_type": "code",
   "execution_count": 3,
   "metadata": {},
   "outputs": [],
   "source": [
    "q = QuantumRegister(2, 'q')\n",
    "c = ClassicalRegister(2, 'c')"
   ]
  },
  {
   "cell_type": "markdown",
   "metadata": {},
   "source": [
    "## Первое состояние Белла\n",
    "Создаем состояние Белла $|Φ⁺⟩ = (|00⟩ + |11⟩) / \\sqrt{2}$"
   ]
  },
  {
   "cell_type": "code",
   "execution_count": 4,
   "metadata": {},
   "outputs": [],
   "source": [
    "def firstBellState():\n",
    "    circuit = QuantumCircuit(q, c)\n",
    "\n",
    "    circuit.h(q[0]) # Применяем вращение Адамара на первом кьюбите\n",
    "    circuit.cx(q[0], q[1]) # Применяем оператор CNOT (controlled-X) на оба кьюбита\n",
    "    circuit.measure(q, c)\n",
    "\n",
    "    print(circuit)\n",
    "\n",
    "    job = execute(circuit, backend, shots=2**15)\n",
    "    \n",
    "    job_monitor(job)\n",
    "    counts = job.result().get_counts()\n",
    "\n",
    "    print(counts)"
   ]
  },
  {
   "cell_type": "code",
   "execution_count": 5,
   "metadata": {},
   "outputs": [
    {
     "name": "stdout",
     "output_type": "stream",
     "text": [
      "     ┌───┐     ┌─┐   \n",
      "q_0: ┤ H ├──■──┤M├───\n",
      "     └───┘┌─┴─┐└╥┘┌─┐\n",
      "q_1: ─────┤ X ├─╫─┤M├\n",
      "          └───┘ ║ └╥┘\n",
      "c: 2/═══════════╩══╩═\n",
      "                0  1 \n",
      "Job Status: job has successfully run\n",
      "{'00': 16466, '11': 16302}\n"
     ]
    }
   ],
   "source": [
    "firstBellState()"
   ]
  },
  {
   "cell_type": "markdown",
   "metadata": {},
   "source": [
    "----"
   ]
  },
  {
   "cell_type": "markdown",
   "metadata": {},
   "source": [
    "## Второе состояние Белла\n",
    "Состояние Белла $|Ψ⁺⟩ = (|01⟩ + |10⟩) / \\sqrt{2}$"
   ]
  },
  {
   "cell_type": "code",
   "execution_count": 6,
   "metadata": {},
   "outputs": [],
   "source": [
    "def secondBellState():\n",
    "    circuit = QuantumCircuit(q,c)\n",
    "\n",
    "    circuit.x(q[0]) # Оператор X (матрица Паули) на первом кубите\n",
    "    circuit.h(q[0])\n",
    "    circuit.cx(q[0],q[1])\n",
    "    circuit.measure(q,c)\n",
    "\n",
    "    print(circuit)\n",
    "\n",
    "    job = execute(circuit, backend, shots=2**15)\n",
    "    \n",
    "    job_monitor(job)\n",
    "    counts = job.result().get_counts()\n",
    "\n",
    "    print(counts)"
   ]
  },
  {
   "cell_type": "code",
   "execution_count": 7,
   "metadata": {},
   "outputs": [
    {
     "name": "stdout",
     "output_type": "stream",
     "text": [
      "     ┌───┐┌───┐     ┌─┐   \n",
      "q_0: ┤ X ├┤ H ├──■──┤M├───\n",
      "     └───┘└───┘┌─┴─┐└╥┘┌─┐\n",
      "q_1: ──────────┤ X ├─╫─┤M├\n",
      "               └───┘ ║ └╥┘\n",
      "c: 2/════════════════╩══╩═\n",
      "                     0  1 \n",
      "Job Status: job has successfully run\n",
      "{'11': 16245, '00': 16523}\n"
     ]
    }
   ],
   "source": [
    "secondBellState()"
   ]
  },
  {
   "cell_type": "markdown",
   "metadata": {},
   "source": [
    "----"
   ]
  },
  {
   "cell_type": "markdown",
   "metadata": {},
   "source": [
    "## Третье состояние Белла\n",
    "Состояние Белла $|Φ⁻⟩ = (|00⟩ - |11⟩) / \\sqrt{2}$"
   ]
  },
  {
   "cell_type": "code",
   "execution_count": 10,
   "metadata": {},
   "outputs": [],
   "source": [
    "def thirdBellState():\n",
    "    circuit = QuantumCircuit(q, c)\n",
    "\n",
    "    circuit.x(q[1]) # Оператор X (матрица Паули) на втором кубите\n",
    "    circuit.h(q[0])\n",
    "    circuit.cx(q[0], q[1])\n",
    "    circuit.measure(q,c)\n",
    "\n",
    "    print(circuit)\n",
    "\n",
    "    job = execute(circuit, backend, shots=2**15)\n",
    "    \n",
    "    job_monitor(job)\n",
    "\n",
    "    counts = job.result().get_counts()\n",
    "\n",
    "    print(counts)"
   ]
  },
  {
   "cell_type": "code",
   "execution_count": 11,
   "metadata": {},
   "outputs": [
    {
     "name": "stdout",
     "output_type": "stream",
     "text": [
      "     ┌───┐     ┌─┐   \n",
      "q_0: ┤ H ├──■──┤M├───\n",
      "     ├───┤┌─┴─┐└╥┘┌─┐\n",
      "q_1: ┤ X ├┤ X ├─╫─┤M├\n",
      "     └───┘└───┘ ║ └╥┘\n",
      "c: 2/═══════════╩══╩═\n",
      "                0  1 \n",
      "Job Status: job has successfully run\n",
      "{'01': 16211, '10': 16557}\n"
     ]
    }
   ],
   "source": [
    "thirdBellState()"
   ]
  },
  {
   "cell_type": "markdown",
   "metadata": {},
   "source": [
    "----"
   ]
  },
  {
   "cell_type": "markdown",
   "metadata": {},
   "source": [
    "## Четвертое состояние Белла\n",
    "Состояние Белла $|Ψ⁻⟩ = (|01⟩ - |10⟩) / \\sqrt{2}$"
   ]
  },
  {
   "cell_type": "code",
   "execution_count": 12,
   "metadata": {},
   "outputs": [],
   "source": [
    "def fourthBellState():\n",
    "    circuit = QuantumCircuit(q, c)\n",
    "\n",
    "    circuit.x(q[1]) # Оператор X (матрица Паули) на втором кубите\n",
    "    circuit.h(q[0])\n",
    "    circuit.z(q[0]) # Оператор Z (матрица Паули) на втором кубите\n",
    "    circuit.z(q[1]) # Оператор Z (матрица Паули) на втором кубите \n",
    "    circuit.cx(q[0], q[1])\n",
    "    circuit.measure(q, c)\n",
    "\n",
    "    print(circuit)\n",
    "\n",
    "    job = execute(circuit, backend, shots=2**15)\n",
    "    \n",
    "    job_monitor(job)\n",
    "    counts = job.result().get_counts()\n",
    "\n",
    "    print(counts)"
   ]
  },
  {
   "cell_type": "code",
   "execution_count": 13,
   "metadata": {},
   "outputs": [
    {
     "name": "stdout",
     "output_type": "stream",
     "text": [
      "     ┌───┐┌───┐     ┌─┐   \n",
      "q_0: ┤ H ├┤ Z ├──■──┤M├───\n",
      "     ├───┤├───┤┌─┴─┐└╥┘┌─┐\n",
      "q_1: ┤ X ├┤ Z ├┤ X ├─╫─┤M├\n",
      "     └───┘└───┘└───┘ ║ └╥┘\n",
      "c: 2/════════════════╩══╩═\n",
      "                     0  1 \n",
      "Job Status: job has successfully run\n",
      "{'10': 16362, '01': 16406}\n"
     ]
    }
   ],
   "source": [
    "fourthBellState()"
   ]
  },
  {
   "cell_type": "markdown",
   "metadata": {},
   "source": [
    "----"
   ]
  },
  {
   "cell_type": "markdown",
   "metadata": {},
   "source": [
    "# Задание 5\n",
    "> Используя библиотеку Qiskit, создайте схему квантовой телепортации для случая,  \n",
    "> когда состояние кубита телепортируется внутри одной квантовой схемы (без классических каналов передачи информации)."
   ]
  },
  {
   "cell_type": "code",
   "execution_count": 20,
   "metadata": {},
   "outputs": [
    {
     "data": {
      "text/html": [
       "<pre style=\"word-wrap: normal;white-space: pre;background: #fff0;line-height: 1.1;font-family: &quot;Courier New&quot;,Courier,monospace\">                    ┌───┐\n",
       "q_0: ────────────■──┤ H ├\n",
       "     ┌───┐     ┌─┴─┐└───┘\n",
       "q_1: ┤ H ├──■──┤ X ├─────\n",
       "     └───┘┌─┴─┐└───┘     \n",
       "q_2: ─────┤ X ├──────────\n",
       "          └───┘          </pre>"
      ],
      "text/plain": [
       "                    ┌───┐\n",
       "q_0: ────────────■──┤ H ├\n",
       "     ┌───┐     ┌─┴─┐└───┘\n",
       "q_1: ┤ H ├──■──┤ X ├─────\n",
       "     └───┘┌─┴─┐└───┘     \n",
       "q_2: ─────┤ X ├──────────\n",
       "          └───┘          "
      ]
     },
     "execution_count": 20,
     "metadata": {},
     "output_type": "execute_result"
    }
   ],
   "source": [
    "# создаем необходимые регистры\n",
    "qr = QuantumRegister(3, name=\"q\")\n",
    "\n",
    "# создаем схему\n",
    "qc = QuantumCircuit(qr)\n",
    "\n",
    "qc.h(qr[1])\n",
    "qc.cx(qr[1], qr[2])\n",
    "qc.cx(qr[0], qr[1])\n",
    "qc.h(qr[0])\n",
    "\n",
    "qc.draw()"
   ]
  },
  {
   "cell_type": "markdown",
   "metadata": {},
   "source": [
    "---"
   ]
  },
  {
   "cell_type": "markdown",
   "metadata": {},
   "source": [
    "# Задание 6\n",
    "> С помощью библиотеки Qiskit создайте схемы для операторов классической логики: И, НЕ, ИЛИ, Исключающее ИЛИ.  \n",
    "> При создании этих операторов используйте вспомогательные кубиты  \n",
    "> (для того, чтобы входные данные сохранялись, выходные данные для некоторых логических операторов нужно сохранять в отдельных кубитах, которые можно назвать вспомогательными)."
   ]
  },
  {
   "cell_type": "markdown",
   "metadata": {},
   "source": [
    "## И"
   ]
  },
  {
   "cell_type": "code",
   "execution_count": 64,
   "metadata": {},
   "outputs": [],
   "source": [
    "def and_gate(steps_1, steps_2, qubit_inputs, qubit_outputs, classical_bits):\n",
    "    qc = QuantumCircuit(qubit_inputs, qubit_outputs, classical_bits)\n",
    "    if steps_1:\n",
    "        qc.x(0)\n",
    "    if steps_2:\n",
    "        qc.x(1)\n",
    "    qc.barrier()\n",
    "\n",
    "    qc.ccx(*qubit_inputs, *qubit_outputs)\n",
    "\n",
    "    qc.barrier()\n",
    "\n",
    "    qc.measure(2, 0)\n",
    "    print(qc.draw())\n",
    "\n",
    "    job = execute(qc, backend)\n",
    "    return job.result().get_counts()"
   ]
  },
  {
   "cell_type": "code",
   "execution_count": 65,
   "metadata": {},
   "outputs": [
    {
     "name": "stdout",
     "output_type": "stream",
     "text": [
      "              ░       ░    \n",
      "    input_0: ─░───■───░────\n",
      "              ░   │   ░    \n",
      "    input_1: ─░───■───░────\n",
      "              ░ ┌─┴─┐ ░ ┌─┐\n",
      "     output: ─░─┤ X ├─░─┤M├\n",
      "              ░ └───┘ ░ └╥┘\n",
      "classical: 1/════════════╩═\n",
      "                         0 \n",
      "{'0': 1024}\n",
      "                   ░       ░    \n",
      "    input_0: ──────░───■───░────\n",
      "             ┌───┐ ░   │   ░    \n",
      "    input_1: ┤ X ├─░───■───░────\n",
      "             └───┘ ░ ┌─┴─┐ ░ ┌─┐\n",
      "     output: ──────░─┤ X ├─░─┤M├\n",
      "                   ░ └───┘ ░ └╥┘\n",
      "classical: 1/═════════════════╩═\n",
      "                              0 \n",
      "{'0': 1024}\n",
      "             ┌───┐ ░       ░    \n",
      "    input_0: ┤ X ├─░───■───░────\n",
      "             └───┘ ░   │   ░    \n",
      "    input_1: ──────░───■───░────\n",
      "                   ░ ┌─┴─┐ ░ ┌─┐\n",
      "     output: ──────░─┤ X ├─░─┤M├\n",
      "                   ░ └───┘ ░ └╥┘\n",
      "classical: 1/═════════════════╩═\n",
      "                              0 \n",
      "{'0': 1024}\n",
      "             ┌───┐ ░       ░    \n",
      "    input_0: ┤ X ├─░───■───░────\n",
      "             ├───┤ ░   │   ░    \n",
      "    input_1: ┤ X ├─░───■───░────\n",
      "             └───┘ ░ ┌─┴─┐ ░ ┌─┐\n",
      "     output: ──────░─┤ X ├─░─┤M├\n",
      "                   ░ └───┘ ░ └╥┘\n",
      "classical: 1/═════════════════╩═\n",
      "                              0 \n",
      "{'1': 1024}\n"
     ]
    }
   ],
   "source": [
    "qubit_inputs = QuantumRegister(2, 'input')\n",
    "qubit_outputs = QuantumRegister(1, 'output')\n",
    "classical_bits = ClassicalRegister(1, 'classical')\n",
    "\n",
    "for steps_1, steps_2 in zip([0, 0, 1, 1], [0, 1, 0, 1]):\n",
    "    print(and_gate(steps_1, steps_2, qubit_inputs, qubit_outputs, classical_bits))\n"
   ]
  },
  {
   "cell_type": "markdown",
   "metadata": {},
   "source": [
    "## ИЛИ"
   ]
  },
  {
   "cell_type": "code",
   "execution_count": 92,
   "metadata": {},
   "outputs": [],
   "source": [
    "def or_gate(steps_1, steps_2, qubit_inputs, qubit_additional, qubit_outputs, classical_bits):\n",
    "    qc = QuantumCircuit(qubit_inputs, qubit_additional, qubit_outputs, classical_bits)\n",
    "    if steps_1:\n",
    "        qc.x(0)\n",
    "    if steps_2:\n",
    "        qc.x(1)\n",
    "    qc.barrier()\n",
    "\n",
    "    qc.cx(qubit_inputs[0], *qubit_additional)\n",
    "    qc.cx(qubit_inputs[1], *qubit_additional)\n",
    "    qc.ccx(*qubit_inputs, *qubit_additional)\n",
    "    qc.cx(*qubit_additional, *qubit_outputs)\n",
    "\n",
    "    qc.barrier()\n",
    "\n",
    "    qc.measure(qubit_outputs, 0)\n",
    "    print(qc.draw())\n",
    "\n",
    "    job = execute(qc, backend)\n",
    "    return job.result().get_counts()"
   ]
  },
  {
   "cell_type": "code",
   "execution_count": 93,
   "metadata": {},
   "outputs": [
    {
     "name": "stdout",
     "output_type": "stream",
     "text": [
      "              ░                      ░    \n",
      "    input_0: ─░───■─────────■────────░────\n",
      "              ░   │         │        ░    \n",
      "    input_1: ─░───┼────■────■────────░────\n",
      "              ░ ┌─┴─┐┌─┴─┐┌─┴─┐      ░    \n",
      " additional: ─░─┤ X ├┤ X ├┤ X ├──■───░────\n",
      "              ░ └───┘└───┘└───┘┌─┴─┐ ░ ┌─┐\n",
      "     output: ─░────────────────┤ X ├─░─┤M├\n",
      "              ░                └───┘ ░ └╥┘\n",
      "classical: 1/═══════════════════════════╩═\n",
      "                                        0 \n",
      "{'0': 1024}\n",
      "                   ░                      ░    \n",
      "    input_0: ──────░───■─────────■────────░────\n",
      "             ┌───┐ ░   │         │        ░    \n",
      "    input_1: ┤ X ├─░───┼────■────■────────░────\n",
      "             └───┘ ░ ┌─┴─┐┌─┴─┐┌─┴─┐      ░    \n",
      " additional: ──────░─┤ X ├┤ X ├┤ X ├──■───░────\n",
      "                   ░ └───┘└───┘└───┘┌─┴─┐ ░ ┌─┐\n",
      "     output: ──────░────────────────┤ X ├─░─┤M├\n",
      "                   ░                └───┘ ░ └╥┘\n",
      "classical: 1/════════════════════════════════╩═\n",
      "                                             0 \n",
      "{'1': 1024}\n",
      "             ┌───┐ ░                      ░    \n",
      "    input_0: ┤ X ├─░───■─────────■────────░────\n",
      "             └───┘ ░   │         │        ░    \n",
      "    input_1: ──────░───┼────■────■────────░────\n",
      "                   ░ ┌─┴─┐┌─┴─┐┌─┴─┐      ░    \n",
      " additional: ──────░─┤ X ├┤ X ├┤ X ├──■───░────\n",
      "                   ░ └───┘└───┘└───┘┌─┴─┐ ░ ┌─┐\n",
      "     output: ──────░────────────────┤ X ├─░─┤M├\n",
      "                   ░                └───┘ ░ └╥┘\n",
      "classical: 1/════════════════════════════════╩═\n",
      "                                             0 \n",
      "{'1': 1024}\n",
      "             ┌───┐ ░                      ░    \n",
      "    input_0: ┤ X ├─░───■─────────■────────░────\n",
      "             ├───┤ ░   │         │        ░    \n",
      "    input_1: ┤ X ├─░───┼────■────■────────░────\n",
      "             └───┘ ░ ┌─┴─┐┌─┴─┐┌─┴─┐      ░    \n",
      " additional: ──────░─┤ X ├┤ X ├┤ X ├──■───░────\n",
      "                   ░ └───┘└───┘└───┘┌─┴─┐ ░ ┌─┐\n",
      "     output: ──────░────────────────┤ X ├─░─┤M├\n",
      "                   ░                └───┘ ░ └╥┘\n",
      "classical: 1/════════════════════════════════╩═\n",
      "                                             0 \n",
      "{'1': 1024}\n"
     ]
    }
   ],
   "source": [
    "qubit_inputs = QuantumRegister(2, 'input')\n",
    "qubit_additional = QuantumRegister(1, 'additional')\n",
    "qubit_outputs = QuantumRegister(1, 'output')\n",
    "classical_bits = ClassicalRegister(1, 'classical')\n",
    "\n",
    "for steps_1, steps_2 in zip([0, 0, 1, 1], [0, 1, 0, 1]):\n",
    "    print(or_gate(steps_1, \n",
    "                   steps_2, \n",
    "                   qubit_inputs, \n",
    "                   qubit_additional, \n",
    "                   qubit_outputs, \n",
    "                   classical_bits))"
   ]
  },
  {
   "cell_type": "markdown",
   "metadata": {},
   "source": [
    "## НЕ"
   ]
  },
  {
   "cell_type": "code",
   "execution_count": 118,
   "metadata": {},
   "outputs": [],
   "source": [
    "def not_gate(steps_1, qubit_inputs, qubit_additional, qubit_outputs, classical_bits):\n",
    "    qc = QuantumCircuit(qubit_inputs, qubit_additional, qubit_outputs, classical_bits)\n",
    "    if steps_1:\n",
    "        qc.x(*qubit_inputs)\n",
    "    qc.barrier()\n",
    "\n",
    "    qc.x(*qubit_additional)\n",
    "    qc.cx(*qubit_inputs, *qubit_outputs)\n",
    "    qc.ccx(*qubit_inputs, *qubit_additional, *qubit_outputs)\n",
    "\n",
    "    qc.barrier()\n",
    "\n",
    "    qc.measure(*qubit_outputs, 0)\n",
    "    print(qc.draw())\n",
    "\n",
    "    job = execute(qc, backend)\n",
    "    return job.result().get_counts()"
   ]
  },
  {
   "cell_type": "code",
   "execution_count": 119,
   "metadata": {},
   "outputs": [
    {
     "name": "stdout",
     "output_type": "stream",
     "text": [
      "              ░                 ░    \n",
      "      input: ─░────────■────■───░────\n",
      "              ░ ┌───┐  │    │   ░    \n",
      " additional: ─░─┤ X ├──┼────■───░────\n",
      "              ░ └───┘┌─┴─┐┌─┴─┐ ░ ┌─┐\n",
      "     output: ─░──────┤ X ├┤ X ├─░─┤M├\n",
      "              ░      └───┘└───┘ ░ └╥┘\n",
      "classical: 1/══════════════════════╩═\n",
      "                                   0 \n",
      "{'0': 1024}\n",
      "             ┌───┐ ░                 ░    \n",
      "      input: ┤ X ├─░────────■────■───░────\n",
      "             └───┘ ░ ┌───┐  │    │   ░    \n",
      " additional: ──────░─┤ X ├──┼────■───░────\n",
      "                   ░ └───┘┌─┴─┐┌─┴─┐ ░ ┌─┐\n",
      "     output: ──────░──────┤ X ├┤ X ├─░─┤M├\n",
      "                   ░      └───┘└───┘ ░ └╥┘\n",
      "classical: 1/═══════════════════════════╩═\n",
      "                                        0 \n",
      "{'0': 1024}\n"
     ]
    }
   ],
   "source": [
    "qubit_inputs = QuantumRegister(1, 'input')\n",
    "qubit_additional = QuantumRegister(1, 'additional')\n",
    "qubit_outputs = QuantumRegister(1, 'output')\n",
    "classical_bits = ClassicalRegister(1, 'classical')\n",
    "\n",
    "for steps_1 in [0, 1]:\n",
    "    print(not_gate(steps_1, \n",
    "                   qubit_inputs,\n",
    "                   qubit_additional,\n",
    "                   qubit_outputs, \n",
    "                   classical_bits))"
   ]
  },
  {
   "cell_type": "markdown",
   "metadata": {},
   "source": [
    "## Исключающее ИЛИ"
   ]
  },
  {
   "cell_type": "code",
   "execution_count": 114,
   "metadata": {},
   "outputs": [],
   "source": [
    "def xor_gate(steps_1, steps_2, qubit_inputs, qubit_additional, qubit_outputs, classical_bits):\n",
    "    qc = QuantumCircuit(qubit_inputs, qubit_additional, qubit_outputs, classical_bits)\n",
    "    if steps_1:\n",
    "        qc.x(0)\n",
    "    if steps_2:\n",
    "        qc.x(1)\n",
    "    qc.barrier()\n",
    "\n",
    "    qc.cx(qubit_inputs[0], *qubit_additional)\n",
    "    qc.cx(qubit_inputs[1], *qubit_additional)\n",
    "    qc.cx(*qubit_additional, *qubit_outputs)\n",
    "\n",
    "    qc.barrier()\n",
    "\n",
    "    qc.measure(qubit_outputs, 0)\n",
    "    print(qc.draw())\n",
    "\n",
    "    job = execute(qc, backend)\n",
    "    return job.result().get_counts()"
   ]
  },
  {
   "cell_type": "code",
   "execution_count": 115,
   "metadata": {},
   "outputs": [
    {
     "name": "stdout",
     "output_type": "stream",
     "text": [
      "              ░                 ░    \n",
      "    input_0: ─░───■─────────────░────\n",
      "              ░   │             ░    \n",
      "    input_1: ─░───┼────■────────░────\n",
      "              ░ ┌─┴─┐┌─┴─┐      ░    \n",
      " additional: ─░─┤ X ├┤ X ├──■───░────\n",
      "              ░ └───┘└───┘┌─┴─┐ ░ ┌─┐\n",
      "     output: ─░───────────┤ X ├─░─┤M├\n",
      "              ░           └───┘ ░ └╥┘\n",
      "classical: 1/══════════════════════╩═\n",
      "                                   0 \n",
      "{'0': 1024}\n",
      "                   ░                 ░    \n",
      "    input_0: ──────░───■─────────────░────\n",
      "             ┌───┐ ░   │             ░    \n",
      "    input_1: ┤ X ├─░───┼────■────────░────\n",
      "             └───┘ ░ ┌─┴─┐┌─┴─┐      ░    \n",
      " additional: ──────░─┤ X ├┤ X ├──■───░────\n",
      "                   ░ └───┘└───┘┌─┴─┐ ░ ┌─┐\n",
      "     output: ──────░───────────┤ X ├─░─┤M├\n",
      "                   ░           └───┘ ░ └╥┘\n",
      "classical: 1/═══════════════════════════╩═\n",
      "                                        0 \n",
      "{'1': 1024}\n",
      "             ┌───┐ ░                 ░    \n",
      "    input_0: ┤ X ├─░───■─────────────░────\n",
      "             └───┘ ░   │             ░    \n",
      "    input_1: ──────░───┼────■────────░────\n",
      "                   ░ ┌─┴─┐┌─┴─┐      ░    \n",
      " additional: ──────░─┤ X ├┤ X ├──■───░────\n",
      "                   ░ └───┘└───┘┌─┴─┐ ░ ┌─┐\n",
      "     output: ──────░───────────┤ X ├─░─┤M├\n",
      "                   ░           └───┘ ░ └╥┘\n",
      "classical: 1/═══════════════════════════╩═\n",
      "                                        0 \n",
      "{'1': 1024}\n",
      "             ┌───┐ ░                 ░    \n",
      "    input_0: ┤ X ├─░───■─────────────░────\n",
      "             ├───┤ ░   │             ░    \n",
      "    input_1: ┤ X ├─░───┼────■────────░────\n",
      "             └───┘ ░ ┌─┴─┐┌─┴─┐      ░    \n",
      " additional: ──────░─┤ X ├┤ X ├──■───░────\n",
      "                   ░ └───┘└───┘┌─┴─┐ ░ ┌─┐\n",
      "     output: ──────░───────────┤ X ├─░─┤M├\n",
      "                   ░           └───┘ ░ └╥┘\n",
      "classical: 1/═══════════════════════════╩═\n",
      "                                        0 \n",
      "{'0': 1024}\n"
     ]
    }
   ],
   "source": [
    "qubit_inputs = QuantumRegister(2, 'input')\n",
    "qubit_additional = QuantumRegister(1, 'additional')\n",
    "qubit_outputs = QuantumRegister(1, 'output')\n",
    "classical_bits = ClassicalRegister(1, 'classical')\n",
    "\n",
    "for steps_1, steps_2 in zip([0, 0, 1, 1], [0, 1, 0, 1]):\n",
    "    print(xor_gate(steps_1, \n",
    "                   steps_2, \n",
    "                   qubit_inputs, \n",
    "                   qubit_additional, \n",
    "                   qubit_outputs, \n",
    "                   classical_bits))"
   ]
  },
  {
   "cell_type": "code",
   "execution_count": null,
   "metadata": {},
   "outputs": [],
   "source": []
  }
 ],
 "metadata": {
  "kernelspec": {
   "display_name": "venv",
   "language": "python",
   "name": "python3"
  },
  "language_info": {
   "codemirror_mode": {
    "name": "ipython",
    "version": 3
   },
   "file_extension": ".py",
   "mimetype": "text/x-python",
   "name": "python",
   "nbconvert_exporter": "python",
   "pygments_lexer": "ipython3",
   "version": "3.11.6"
  }
 },
 "nbformat": 4,
 "nbformat_minor": 2
}
